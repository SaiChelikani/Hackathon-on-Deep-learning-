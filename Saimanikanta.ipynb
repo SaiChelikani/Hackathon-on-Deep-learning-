{
  "nbformat": 4,
  "nbformat_minor": 0,
  "metadata": {
    "colab": {
      "name": "Saimanikanta.ipynb",
      "provenance": [],
      "collapsed_sections": []
    },
    "kernelspec": {
      "name": "python3",
      "display_name": "Python 3"
    }
  },
  "cells": [
    {
      "cell_type": "code",
      "metadata": {
        "id": "0FG6PCwRpqe0",
        "colab_type": "code",
        "colab": {}
      },
      "source": [
        "import numpy as np \n",
        "import pandas as pd\n",
        "import warnings\n",
        "import matplotlib.pyplot as plt\n",
        "import math \n",
        "import os\n",
        "warnings.filterwarnings('ignore')"
      ],
      "execution_count": 0,
      "outputs": []
    },
    {
      "cell_type": "code",
      "metadata": {
        "id": "3tzhtah5uxFM",
        "colab_type": "code",
        "outputId": "5b0b7494-392f-44db-9e76-c412fa659aef",
        "colab": {
          "base_uri": "https://localhost:8080/",
          "height": 34
        }
      },
      "source": [
        "# Loading the listing\n",
        "from keras.models import Sequential\n",
        "from keras.layers import Dense,Conv2D,Dropout,MaxPooling2D,Flatten"
      ],
      "execution_count": 0,
      "outputs": [
        {
          "output_type": "stream",
          "text": [
            "Using TensorFlow backend.\n"
          ],
          "name": "stderr"
        }
      ]
    },
    {
      "cell_type": "code",
      "metadata": {
        "id": "HbfgZJVAH1VM",
        "colab_type": "code",
        "outputId": "7c165f3e-1656-401b-cd1d-b9731c3a46e7",
        "colab": {
          "base_uri": "https://localhost:8080/",
          "height": 34
        }
      },
      "source": [
        "from google.colab import drive\n",
        "drive.mount('/drive')\n",
        "import os\n",
        "os.chdir('/drive/My Drive/')"
      ],
      "execution_count": 0,
      "outputs": [
        {
          "output_type": "stream",
          "text": [
            "Mounted at /drive\n"
          ],
          "name": "stdout"
        }
      ]
    },
    {
      "cell_type": "code",
      "metadata": {
        "id": "v61uD0k_Mvpm",
        "colab_type": "code",
        "colab": {}
      },
      "source": [
        "from IPython.core.interactiveshell import InteractiveShell\n",
        "InteractiveShell.ast_node_interactivity='all'"
      ],
      "execution_count": 0,
      "outputs": []
    },
    {
      "cell_type": "code",
      "metadata": {
        "id": "WAd8OvfnIFpu",
        "colab_type": "code",
        "outputId": "7cffa194-694f-4014-fa74-8c97eeb8deca",
        "colab": {
          "base_uri": "https://localhost:8080/",
          "height": 493
        }
      },
      "source": [
        "os.listdir()"
      ],
      "execution_count": 0,
      "outputs": [
        {
          "output_type": "execute_result",
          "data": {
            "text/plain": [
              "['HALL TICKECT- CDS.pdf',\n",
              " 'my-resume_f6c67f95728cd28444b98862cc54445b.pdf',\n",
              " 'GATE2019.pdf',\n",
              " 'MAC PPT (1).gslides',\n",
              " 'B.TECH',\n",
              " 'Res',\n",
              " 'photos',\n",
              " 'Classroom',\n",
              " 'EAadhaar_xxxxxxxx5119_04072019233456_098712.pdf',\n",
              " 'What do A Data scientist do ?.gslides',\n",
              " 'Data science',\n",
              " 'Colab Notebooks',\n",
              " 'Untitled spreadsheet.gsheet',\n",
              " 'Gary Pauly Trade Data CY2017-1.gsheet',\n",
              " 'Paytm_Wallet_Txn_History_Csv_Nov2019_8555841539.csv',\n",
              " 'DATA SCIENTIST.gdoc',\n",
              " 'my-resume_f6c67f95728cd28444b98862cc54445b.gdoc',\n",
              " 'Untitled document.gdoc',\n",
              " 'NAVEEN RESUME.docx',\n",
              " 'mnist_data',\n",
              " 'neural_class',\n",
              " 'numberclass_nn',\n",
              " 'VISHNU V Data Analyst resume.docx',\n",
              " 'VISHNU V Data Analyst resume.gdoc',\n",
              " 'Doc Resume.docx',\n",
              " 'venkatesh.ipynb',\n",
              " 'hackathon_images_train.csv',\n",
              " 'hackathon_images_test.csv']"
            ]
          },
          "metadata": {
            "tags": []
          },
          "execution_count": 19
        }
      ]
    },
    {
      "cell_type": "code",
      "metadata": {
        "id": "_2D5HtnjI4eU",
        "colab_type": "code",
        "colab": {}
      },
      "source": [
        "data_train=pd.read_csv('hackathon_images_train.csv')\n",
        "data_test=pd.read_csv('hackathon_images_test.csv')"
      ],
      "execution_count": 0,
      "outputs": []
    },
    {
      "cell_type": "code",
      "metadata": {
        "id": "SiYlMKz2MVKe",
        "colab_type": "code",
        "outputId": "9af4b329-53eb-464b-9b62-d8c431dee698",
        "colab": {
          "base_uri": "https://localhost:8080/",
          "height": 345
        }
      },
      "source": [
        "data_train.head(3)\n",
        "data_test.head(3)"
      ],
      "execution_count": 0,
      "outputs": [
        {
          "output_type": "execute_result",
          "data": {
            "text/html": [
              "<div>\n",
              "<style scoped>\n",
              "    .dataframe tbody tr th:only-of-type {\n",
              "        vertical-align: middle;\n",
              "    }\n",
              "\n",
              "    .dataframe tbody tr th {\n",
              "        vertical-align: top;\n",
              "    }\n",
              "\n",
              "    .dataframe thead th {\n",
              "        text-align: right;\n",
              "    }\n",
              "</style>\n",
              "<table border=\"1\" class=\"dataframe\">\n",
              "  <thead>\n",
              "    <tr style=\"text-align: right;\">\n",
              "      <th></th>\n",
              "      <th>Labels</th>\n",
              "      <th>pixels0</th>\n",
              "      <th>pixels1</th>\n",
              "      <th>pixels2</th>\n",
              "      <th>pixels3</th>\n",
              "      <th>pixels4</th>\n",
              "      <th>pixels5</th>\n",
              "      <th>pixels6</th>\n",
              "      <th>pixels7</th>\n",
              "      <th>pixels8</th>\n",
              "      <th>pixels9</th>\n",
              "      <th>pixels10</th>\n",
              "      <th>pixels11</th>\n",
              "      <th>pixels12</th>\n",
              "      <th>pixels13</th>\n",
              "      <th>pixels14</th>\n",
              "      <th>pixels15</th>\n",
              "      <th>pixels16</th>\n",
              "      <th>pixels17</th>\n",
              "      <th>pixels18</th>\n",
              "      <th>pixels19</th>\n",
              "      <th>pixels20</th>\n",
              "      <th>pixels21</th>\n",
              "      <th>pixels22</th>\n",
              "      <th>pixels23</th>\n",
              "      <th>pixels24</th>\n",
              "      <th>pixels25</th>\n",
              "      <th>pixels26</th>\n",
              "      <th>pixels27</th>\n",
              "      <th>pixels28</th>\n",
              "      <th>pixels29</th>\n",
              "      <th>pixels30</th>\n",
              "      <th>pixels31</th>\n",
              "      <th>pixels32</th>\n",
              "      <th>pixels33</th>\n",
              "      <th>pixels34</th>\n",
              "      <th>pixels35</th>\n",
              "      <th>pixels36</th>\n",
              "      <th>pixels37</th>\n",
              "      <th>pixels38</th>\n",
              "      <th>...</th>\n",
              "      <th>pixels9960</th>\n",
              "      <th>pixels9961</th>\n",
              "      <th>pixels9962</th>\n",
              "      <th>pixels9963</th>\n",
              "      <th>pixels9964</th>\n",
              "      <th>pixels9965</th>\n",
              "      <th>pixels9966</th>\n",
              "      <th>pixels9967</th>\n",
              "      <th>pixels9968</th>\n",
              "      <th>pixels9969</th>\n",
              "      <th>pixels9970</th>\n",
              "      <th>pixels9971</th>\n",
              "      <th>pixels9972</th>\n",
              "      <th>pixels9973</th>\n",
              "      <th>pixels9974</th>\n",
              "      <th>pixels9975</th>\n",
              "      <th>pixels9976</th>\n",
              "      <th>pixels9977</th>\n",
              "      <th>pixels9978</th>\n",
              "      <th>pixels9979</th>\n",
              "      <th>pixels9980</th>\n",
              "      <th>pixels9981</th>\n",
              "      <th>pixels9982</th>\n",
              "      <th>pixels9983</th>\n",
              "      <th>pixels9984</th>\n",
              "      <th>pixels9985</th>\n",
              "      <th>pixels9986</th>\n",
              "      <th>pixels9987</th>\n",
              "      <th>pixels9988</th>\n",
              "      <th>pixels9989</th>\n",
              "      <th>pixels9990</th>\n",
              "      <th>pixels9991</th>\n",
              "      <th>pixels9992</th>\n",
              "      <th>pixels9993</th>\n",
              "      <th>pixels9994</th>\n",
              "      <th>pixels9995</th>\n",
              "      <th>pixels9996</th>\n",
              "      <th>pixels9997</th>\n",
              "      <th>pixels9998</th>\n",
              "      <th>pixels9999</th>\n",
              "    </tr>\n",
              "  </thead>\n",
              "  <tbody>\n",
              "    <tr>\n",
              "      <th>0</th>\n",
              "      <td>Faces_easy</td>\n",
              "      <td>84.0</td>\n",
              "      <td>83.0</td>\n",
              "      <td>82.0</td>\n",
              "      <td>80.0</td>\n",
              "      <td>77.0</td>\n",
              "      <td>76.0</td>\n",
              "      <td>71.0</td>\n",
              "      <td>71.0</td>\n",
              "      <td>72.0</td>\n",
              "      <td>73.0</td>\n",
              "      <td>73.0</td>\n",
              "      <td>65.0</td>\n",
              "      <td>65.0</td>\n",
              "      <td>62.0</td>\n",
              "      <td>63.0</td>\n",
              "      <td>68.0</td>\n",
              "      <td>65.0</td>\n",
              "      <td>65.0</td>\n",
              "      <td>72.0</td>\n",
              "      <td>77.0</td>\n",
              "      <td>86.0</td>\n",
              "      <td>85.0</td>\n",
              "      <td>88.0</td>\n",
              "      <td>84.0</td>\n",
              "      <td>87.0</td>\n",
              "      <td>82.0</td>\n",
              "      <td>79.0</td>\n",
              "      <td>62.0</td>\n",
              "      <td>80.0</td>\n",
              "      <td>80.0</td>\n",
              "      <td>83.0</td>\n",
              "      <td>84.0</td>\n",
              "      <td>82.0</td>\n",
              "      <td>87.0</td>\n",
              "      <td>91.0</td>\n",
              "      <td>87.0</td>\n",
              "      <td>85.0</td>\n",
              "      <td>85.0</td>\n",
              "      <td>89.0</td>\n",
              "      <td>...</td>\n",
              "      <td>189.0</td>\n",
              "      <td>185.0</td>\n",
              "      <td>193.0</td>\n",
              "      <td>194.0</td>\n",
              "      <td>195.0</td>\n",
              "      <td>197.0</td>\n",
              "      <td>194.0</td>\n",
              "      <td>190.0</td>\n",
              "      <td>188.0</td>\n",
              "      <td>185.0</td>\n",
              "      <td>184.0</td>\n",
              "      <td>186.0</td>\n",
              "      <td>186.0</td>\n",
              "      <td>185.0</td>\n",
              "      <td>187.0</td>\n",
              "      <td>188.0</td>\n",
              "      <td>184.0</td>\n",
              "      <td>187.0</td>\n",
              "      <td>183.0</td>\n",
              "      <td>184.0</td>\n",
              "      <td>188.0</td>\n",
              "      <td>192.0</td>\n",
              "      <td>193.0</td>\n",
              "      <td>202.0</td>\n",
              "      <td>206.0</td>\n",
              "      <td>207.0</td>\n",
              "      <td>203.0</td>\n",
              "      <td>228.0</td>\n",
              "      <td>226.0</td>\n",
              "      <td>226.0</td>\n",
              "      <td>225.0</td>\n",
              "      <td>213.0</td>\n",
              "      <td>221.0</td>\n",
              "      <td>220.0</td>\n",
              "      <td>219.0</td>\n",
              "      <td>221.0</td>\n",
              "      <td>222.0</td>\n",
              "      <td>222.0</td>\n",
              "      <td>222.0</td>\n",
              "      <td>223.0</td>\n",
              "    </tr>\n",
              "    <tr>\n",
              "      <th>1</th>\n",
              "      <td>airplanes</td>\n",
              "      <td>255.0</td>\n",
              "      <td>255.0</td>\n",
              "      <td>255.0</td>\n",
              "      <td>255.0</td>\n",
              "      <td>255.0</td>\n",
              "      <td>255.0</td>\n",
              "      <td>255.0</td>\n",
              "      <td>255.0</td>\n",
              "      <td>255.0</td>\n",
              "      <td>255.0</td>\n",
              "      <td>254.0</td>\n",
              "      <td>198.0</td>\n",
              "      <td>197.0</td>\n",
              "      <td>197.0</td>\n",
              "      <td>195.0</td>\n",
              "      <td>195.0</td>\n",
              "      <td>195.0</td>\n",
              "      <td>195.0</td>\n",
              "      <td>196.0</td>\n",
              "      <td>196.0</td>\n",
              "      <td>195.0</td>\n",
              "      <td>195.0</td>\n",
              "      <td>195.0</td>\n",
              "      <td>195.0</td>\n",
              "      <td>195.0</td>\n",
              "      <td>196.0</td>\n",
              "      <td>196.0</td>\n",
              "      <td>195.0</td>\n",
              "      <td>194.0</td>\n",
              "      <td>195.0</td>\n",
              "      <td>195.0</td>\n",
              "      <td>195.0</td>\n",
              "      <td>196.0</td>\n",
              "      <td>197.0</td>\n",
              "      <td>196.0</td>\n",
              "      <td>195.0</td>\n",
              "      <td>197.0</td>\n",
              "      <td>198.0</td>\n",
              "      <td>198.0</td>\n",
              "      <td>...</td>\n",
              "      <td>179.0</td>\n",
              "      <td>174.0</td>\n",
              "      <td>192.0</td>\n",
              "      <td>154.0</td>\n",
              "      <td>171.0</td>\n",
              "      <td>200.0</td>\n",
              "      <td>186.0</td>\n",
              "      <td>194.0</td>\n",
              "      <td>206.0</td>\n",
              "      <td>209.0</td>\n",
              "      <td>211.0</td>\n",
              "      <td>168.0</td>\n",
              "      <td>181.0</td>\n",
              "      <td>205.0</td>\n",
              "      <td>186.0</td>\n",
              "      <td>200.0</td>\n",
              "      <td>175.0</td>\n",
              "      <td>175.0</td>\n",
              "      <td>171.0</td>\n",
              "      <td>204.0</td>\n",
              "      <td>208.0</td>\n",
              "      <td>179.0</td>\n",
              "      <td>179.0</td>\n",
              "      <td>180.0</td>\n",
              "      <td>189.0</td>\n",
              "      <td>163.0</td>\n",
              "      <td>173.0</td>\n",
              "      <td>196.0</td>\n",
              "      <td>190.0</td>\n",
              "      <td>178.0</td>\n",
              "      <td>179.0</td>\n",
              "      <td>254.0</td>\n",
              "      <td>255.0</td>\n",
              "      <td>255.0</td>\n",
              "      <td>255.0</td>\n",
              "      <td>255.0</td>\n",
              "      <td>255.0</td>\n",
              "      <td>255.0</td>\n",
              "      <td>255.0</td>\n",
              "      <td>255.0</td>\n",
              "    </tr>\n",
              "    <tr>\n",
              "      <th>2</th>\n",
              "      <td>Motorbikes</td>\n",
              "      <td>255.0</td>\n",
              "      <td>255.0</td>\n",
              "      <td>255.0</td>\n",
              "      <td>255.0</td>\n",
              "      <td>255.0</td>\n",
              "      <td>255.0</td>\n",
              "      <td>255.0</td>\n",
              "      <td>255.0</td>\n",
              "      <td>255.0</td>\n",
              "      <td>255.0</td>\n",
              "      <td>255.0</td>\n",
              "      <td>255.0</td>\n",
              "      <td>255.0</td>\n",
              "      <td>255.0</td>\n",
              "      <td>255.0</td>\n",
              "      <td>255.0</td>\n",
              "      <td>255.0</td>\n",
              "      <td>255.0</td>\n",
              "      <td>255.0</td>\n",
              "      <td>255.0</td>\n",
              "      <td>255.0</td>\n",
              "      <td>255.0</td>\n",
              "      <td>255.0</td>\n",
              "      <td>255.0</td>\n",
              "      <td>255.0</td>\n",
              "      <td>255.0</td>\n",
              "      <td>255.0</td>\n",
              "      <td>255.0</td>\n",
              "      <td>255.0</td>\n",
              "      <td>255.0</td>\n",
              "      <td>255.0</td>\n",
              "      <td>255.0</td>\n",
              "      <td>255.0</td>\n",
              "      <td>255.0</td>\n",
              "      <td>255.0</td>\n",
              "      <td>255.0</td>\n",
              "      <td>255.0</td>\n",
              "      <td>255.0</td>\n",
              "      <td>255.0</td>\n",
              "      <td>...</td>\n",
              "      <td>15.0</td>\n",
              "      <td>16.0</td>\n",
              "      <td>19.0</td>\n",
              "      <td>17.0</td>\n",
              "      <td>16.0</td>\n",
              "      <td>16.0</td>\n",
              "      <td>18.0</td>\n",
              "      <td>12.0</td>\n",
              "      <td>25.0</td>\n",
              "      <td>20.0</td>\n",
              "      <td>17.0</td>\n",
              "      <td>20.0</td>\n",
              "      <td>18.0</td>\n",
              "      <td>16.0</td>\n",
              "      <td>51.0</td>\n",
              "      <td>28.0</td>\n",
              "      <td>23.0</td>\n",
              "      <td>12.0</td>\n",
              "      <td>16.0</td>\n",
              "      <td>57.0</td>\n",
              "      <td>22.0</td>\n",
              "      <td>16.0</td>\n",
              "      <td>10.0</td>\n",
              "      <td>17.0</td>\n",
              "      <td>20.0</td>\n",
              "      <td>25.0</td>\n",
              "      <td>26.0</td>\n",
              "      <td>223.0</td>\n",
              "      <td>254.0</td>\n",
              "      <td>255.0</td>\n",
              "      <td>255.0</td>\n",
              "      <td>255.0</td>\n",
              "      <td>255.0</td>\n",
              "      <td>255.0</td>\n",
              "      <td>255.0</td>\n",
              "      <td>255.0</td>\n",
              "      <td>255.0</td>\n",
              "      <td>255.0</td>\n",
              "      <td>255.0</td>\n",
              "      <td>255.0</td>\n",
              "    </tr>\n",
              "  </tbody>\n",
              "</table>\n",
              "<p>3 rows × 10001 columns</p>\n",
              "</div>"
            ],
            "text/plain": [
              "       Labels  pixels0  pixels1  ...  pixels9997  pixels9998  pixels9999\n",
              "0  Faces_easy     84.0     83.0  ...       222.0       222.0       223.0\n",
              "1   airplanes    255.0    255.0  ...       255.0       255.0       255.0\n",
              "2  Motorbikes    255.0    255.0  ...       255.0       255.0       255.0\n",
              "\n",
              "[3 rows x 10001 columns]"
            ]
          },
          "metadata": {
            "tags": []
          },
          "execution_count": 23
        },
        {
          "output_type": "execute_result",
          "data": {
            "text/html": [
              "<div>\n",
              "<style scoped>\n",
              "    .dataframe tbody tr th:only-of-type {\n",
              "        vertical-align: middle;\n",
              "    }\n",
              "\n",
              "    .dataframe tbody tr th {\n",
              "        vertical-align: top;\n",
              "    }\n",
              "\n",
              "    .dataframe thead th {\n",
              "        text-align: right;\n",
              "    }\n",
              "</style>\n",
              "<table border=\"1\" class=\"dataframe\">\n",
              "  <thead>\n",
              "    <tr style=\"text-align: right;\">\n",
              "      <th></th>\n",
              "      <th>Labels</th>\n",
              "      <th>pixels0</th>\n",
              "      <th>pixels1</th>\n",
              "      <th>pixels2</th>\n",
              "      <th>pixels3</th>\n",
              "      <th>pixels4</th>\n",
              "      <th>pixels5</th>\n",
              "      <th>pixels6</th>\n",
              "      <th>pixels7</th>\n",
              "      <th>pixels8</th>\n",
              "      <th>pixels9</th>\n",
              "      <th>pixels10</th>\n",
              "      <th>pixels11</th>\n",
              "      <th>pixels12</th>\n",
              "      <th>pixels13</th>\n",
              "      <th>pixels14</th>\n",
              "      <th>pixels15</th>\n",
              "      <th>pixels16</th>\n",
              "      <th>pixels17</th>\n",
              "      <th>pixels18</th>\n",
              "      <th>pixels19</th>\n",
              "      <th>pixels20</th>\n",
              "      <th>pixels21</th>\n",
              "      <th>pixels22</th>\n",
              "      <th>pixels23</th>\n",
              "      <th>pixels24</th>\n",
              "      <th>pixels25</th>\n",
              "      <th>pixels26</th>\n",
              "      <th>pixels27</th>\n",
              "      <th>pixels28</th>\n",
              "      <th>pixels29</th>\n",
              "      <th>pixels30</th>\n",
              "      <th>pixels31</th>\n",
              "      <th>pixels32</th>\n",
              "      <th>pixels33</th>\n",
              "      <th>pixels34</th>\n",
              "      <th>pixels35</th>\n",
              "      <th>pixels36</th>\n",
              "      <th>pixels37</th>\n",
              "      <th>pixels38</th>\n",
              "      <th>...</th>\n",
              "      <th>pixels9960</th>\n",
              "      <th>pixels9961</th>\n",
              "      <th>pixels9962</th>\n",
              "      <th>pixels9963</th>\n",
              "      <th>pixels9964</th>\n",
              "      <th>pixels9965</th>\n",
              "      <th>pixels9966</th>\n",
              "      <th>pixels9967</th>\n",
              "      <th>pixels9968</th>\n",
              "      <th>pixels9969</th>\n",
              "      <th>pixels9970</th>\n",
              "      <th>pixels9971</th>\n",
              "      <th>pixels9972</th>\n",
              "      <th>pixels9973</th>\n",
              "      <th>pixels9974</th>\n",
              "      <th>pixels9975</th>\n",
              "      <th>pixels9976</th>\n",
              "      <th>pixels9977</th>\n",
              "      <th>pixels9978</th>\n",
              "      <th>pixels9979</th>\n",
              "      <th>pixels9980</th>\n",
              "      <th>pixels9981</th>\n",
              "      <th>pixels9982</th>\n",
              "      <th>pixels9983</th>\n",
              "      <th>pixels9984</th>\n",
              "      <th>pixels9985</th>\n",
              "      <th>pixels9986</th>\n",
              "      <th>pixels9987</th>\n",
              "      <th>pixels9988</th>\n",
              "      <th>pixels9989</th>\n",
              "      <th>pixels9990</th>\n",
              "      <th>pixels9991</th>\n",
              "      <th>pixels9992</th>\n",
              "      <th>pixels9993</th>\n",
              "      <th>pixels9994</th>\n",
              "      <th>pixels9995</th>\n",
              "      <th>pixels9996</th>\n",
              "      <th>pixels9997</th>\n",
              "      <th>pixels9998</th>\n",
              "      <th>pixels9999</th>\n",
              "    </tr>\n",
              "  </thead>\n",
              "  <tbody>\n",
              "    <tr>\n",
              "      <th>0</th>\n",
              "      <td>Leopards</td>\n",
              "      <td>2.0</td>\n",
              "      <td>4.0</td>\n",
              "      <td>2.0</td>\n",
              "      <td>0.0</td>\n",
              "      <td>3.0</td>\n",
              "      <td>3.0</td>\n",
              "      <td>5.0</td>\n",
              "      <td>3.0</td>\n",
              "      <td>2.0</td>\n",
              "      <td>2.0</td>\n",
              "      <td>2.0</td>\n",
              "      <td>3.0</td>\n",
              "      <td>3.0</td>\n",
              "      <td>3.0</td>\n",
              "      <td>3.0</td>\n",
              "      <td>3.0</td>\n",
              "      <td>5.0</td>\n",
              "      <td>3.0</td>\n",
              "      <td>1.0</td>\n",
              "      <td>1.0</td>\n",
              "      <td>0.0</td>\n",
              "      <td>1.0</td>\n",
              "      <td>1.0</td>\n",
              "      <td>0.0</td>\n",
              "      <td>3.0</td>\n",
              "      <td>0.0</td>\n",
              "      <td>2.0</td>\n",
              "      <td>2.0</td>\n",
              "      <td>0.0</td>\n",
              "      <td>0.0</td>\n",
              "      <td>1.0</td>\n",
              "      <td>0.0</td>\n",
              "      <td>0.0</td>\n",
              "      <td>0.0</td>\n",
              "      <td>1.0</td>\n",
              "      <td>1.0</td>\n",
              "      <td>2.0</td>\n",
              "      <td>1.0</td>\n",
              "      <td>1.0</td>\n",
              "      <td>...</td>\n",
              "      <td>1.0</td>\n",
              "      <td>1.0</td>\n",
              "      <td>2.0</td>\n",
              "      <td>2.0</td>\n",
              "      <td>2.0</td>\n",
              "      <td>2.0</td>\n",
              "      <td>2.0</td>\n",
              "      <td>1.0</td>\n",
              "      <td>1.0</td>\n",
              "      <td>2.0</td>\n",
              "      <td>2.0</td>\n",
              "      <td>2.0</td>\n",
              "      <td>2.0</td>\n",
              "      <td>2.0</td>\n",
              "      <td>2.0</td>\n",
              "      <td>2.0</td>\n",
              "      <td>1.0</td>\n",
              "      <td>1.0</td>\n",
              "      <td>2.0</td>\n",
              "      <td>3.0</td>\n",
              "      <td>4.0</td>\n",
              "      <td>1.0</td>\n",
              "      <td>1.0</td>\n",
              "      <td>1.0</td>\n",
              "      <td>1.0</td>\n",
              "      <td>1.0</td>\n",
              "      <td>1.0</td>\n",
              "      <td>1.0</td>\n",
              "      <td>2.0</td>\n",
              "      <td>3.0</td>\n",
              "      <td>4.0</td>\n",
              "      <td>4.0</td>\n",
              "      <td>2.0</td>\n",
              "      <td>2.0</td>\n",
              "      <td>3.0</td>\n",
              "      <td>6.0</td>\n",
              "      <td>0.0</td>\n",
              "      <td>5.0</td>\n",
              "      <td>1.0</td>\n",
              "      <td>5.0</td>\n",
              "    </tr>\n",
              "    <tr>\n",
              "      <th>1</th>\n",
              "      <td>bonsai</td>\n",
              "      <td>255.0</td>\n",
              "      <td>255.0</td>\n",
              "      <td>255.0</td>\n",
              "      <td>255.0</td>\n",
              "      <td>255.0</td>\n",
              "      <td>255.0</td>\n",
              "      <td>255.0</td>\n",
              "      <td>255.0</td>\n",
              "      <td>255.0</td>\n",
              "      <td>255.0</td>\n",
              "      <td>255.0</td>\n",
              "      <td>255.0</td>\n",
              "      <td>255.0</td>\n",
              "      <td>255.0</td>\n",
              "      <td>255.0</td>\n",
              "      <td>255.0</td>\n",
              "      <td>255.0</td>\n",
              "      <td>255.0</td>\n",
              "      <td>255.0</td>\n",
              "      <td>255.0</td>\n",
              "      <td>255.0</td>\n",
              "      <td>255.0</td>\n",
              "      <td>255.0</td>\n",
              "      <td>255.0</td>\n",
              "      <td>255.0</td>\n",
              "      <td>255.0</td>\n",
              "      <td>255.0</td>\n",
              "      <td>255.0</td>\n",
              "      <td>255.0</td>\n",
              "      <td>255.0</td>\n",
              "      <td>255.0</td>\n",
              "      <td>255.0</td>\n",
              "      <td>255.0</td>\n",
              "      <td>255.0</td>\n",
              "      <td>255.0</td>\n",
              "      <td>255.0</td>\n",
              "      <td>255.0</td>\n",
              "      <td>255.0</td>\n",
              "      <td>255.0</td>\n",
              "      <td>...</td>\n",
              "      <td>116.0</td>\n",
              "      <td>192.0</td>\n",
              "      <td>223.0</td>\n",
              "      <td>161.0</td>\n",
              "      <td>143.0</td>\n",
              "      <td>135.0</td>\n",
              "      <td>70.0</td>\n",
              "      <td>195.0</td>\n",
              "      <td>153.0</td>\n",
              "      <td>146.0</td>\n",
              "      <td>171.0</td>\n",
              "      <td>242.0</td>\n",
              "      <td>81.0</td>\n",
              "      <td>161.0</td>\n",
              "      <td>89.0</td>\n",
              "      <td>150.0</td>\n",
              "      <td>201.0</td>\n",
              "      <td>242.0</td>\n",
              "      <td>93.0</td>\n",
              "      <td>153.0</td>\n",
              "      <td>156.0</td>\n",
              "      <td>124.0</td>\n",
              "      <td>246.0</td>\n",
              "      <td>136.0</td>\n",
              "      <td>205.0</td>\n",
              "      <td>252.0</td>\n",
              "      <td>251.0</td>\n",
              "      <td>251.0</td>\n",
              "      <td>253.0</td>\n",
              "      <td>253.0</td>\n",
              "      <td>253.0</td>\n",
              "      <td>254.0</td>\n",
              "      <td>255.0</td>\n",
              "      <td>255.0</td>\n",
              "      <td>255.0</td>\n",
              "      <td>254.0</td>\n",
              "      <td>255.0</td>\n",
              "      <td>255.0</td>\n",
              "      <td>255.0</td>\n",
              "      <td>141.0</td>\n",
              "    </tr>\n",
              "    <tr>\n",
              "      <th>2</th>\n",
              "      <td>Faces_easy</td>\n",
              "      <td>153.0</td>\n",
              "      <td>152.0</td>\n",
              "      <td>153.0</td>\n",
              "      <td>154.0</td>\n",
              "      <td>155.0</td>\n",
              "      <td>153.0</td>\n",
              "      <td>159.0</td>\n",
              "      <td>160.0</td>\n",
              "      <td>157.0</td>\n",
              "      <td>157.0</td>\n",
              "      <td>157.0</td>\n",
              "      <td>157.0</td>\n",
              "      <td>157.0</td>\n",
              "      <td>157.0</td>\n",
              "      <td>158.0</td>\n",
              "      <td>159.0</td>\n",
              "      <td>158.0</td>\n",
              "      <td>163.0</td>\n",
              "      <td>160.0</td>\n",
              "      <td>160.0</td>\n",
              "      <td>162.0</td>\n",
              "      <td>161.0</td>\n",
              "      <td>162.0</td>\n",
              "      <td>159.0</td>\n",
              "      <td>161.0</td>\n",
              "      <td>162.0</td>\n",
              "      <td>164.0</td>\n",
              "      <td>164.0</td>\n",
              "      <td>163.0</td>\n",
              "      <td>159.0</td>\n",
              "      <td>161.0</td>\n",
              "      <td>164.0</td>\n",
              "      <td>166.0</td>\n",
              "      <td>167.0</td>\n",
              "      <td>162.0</td>\n",
              "      <td>162.0</td>\n",
              "      <td>162.0</td>\n",
              "      <td>165.0</td>\n",
              "      <td>164.0</td>\n",
              "      <td>...</td>\n",
              "      <td>215.0</td>\n",
              "      <td>213.0</td>\n",
              "      <td>207.0</td>\n",
              "      <td>210.0</td>\n",
              "      <td>110.0</td>\n",
              "      <td>78.0</td>\n",
              "      <td>85.0</td>\n",
              "      <td>86.0</td>\n",
              "      <td>78.0</td>\n",
              "      <td>82.0</td>\n",
              "      <td>83.0</td>\n",
              "      <td>88.0</td>\n",
              "      <td>75.0</td>\n",
              "      <td>66.0</td>\n",
              "      <td>62.0</td>\n",
              "      <td>61.0</td>\n",
              "      <td>70.0</td>\n",
              "      <td>71.0</td>\n",
              "      <td>87.0</td>\n",
              "      <td>78.0</td>\n",
              "      <td>77.0</td>\n",
              "      <td>74.0</td>\n",
              "      <td>61.0</td>\n",
              "      <td>62.0</td>\n",
              "      <td>67.0</td>\n",
              "      <td>67.0</td>\n",
              "      <td>65.0</td>\n",
              "      <td>69.0</td>\n",
              "      <td>74.0</td>\n",
              "      <td>71.0</td>\n",
              "      <td>73.0</td>\n",
              "      <td>69.0</td>\n",
              "      <td>69.0</td>\n",
              "      <td>80.0</td>\n",
              "      <td>78.0</td>\n",
              "      <td>76.0</td>\n",
              "      <td>75.0</td>\n",
              "      <td>75.0</td>\n",
              "      <td>73.0</td>\n",
              "      <td>72.0</td>\n",
              "    </tr>\n",
              "  </tbody>\n",
              "</table>\n",
              "<p>3 rows × 10001 columns</p>\n",
              "</div>"
            ],
            "text/plain": [
              "       Labels  pixels0  pixels1  ...  pixels9997  pixels9998  pixels9999\n",
              "0    Leopards      2.0      4.0  ...         5.0         1.0         5.0\n",
              "1      bonsai    255.0    255.0  ...       255.0       255.0       141.0\n",
              "2  Faces_easy    153.0    152.0  ...        75.0        73.0        72.0\n",
              "\n",
              "[3 rows x 10001 columns]"
            ]
          },
          "metadata": {
            "tags": []
          },
          "execution_count": 23
        }
      ]
    },
    {
      "cell_type": "code",
      "metadata": {
        "id": "EDs1Hm8CMkQG",
        "colab_type": "code",
        "outputId": "e78cbc50-42db-45e1-f7a0-55113d3bc2e1",
        "colab": {
          "base_uri": "https://localhost:8080/",
          "height": 34
        }
      },
      "source": [
        "# Shape of the dataset\n",
        "data_train.shape,data_test.shape"
      ],
      "execution_count": 0,
      "outputs": [
        {
          "output_type": "execute_result",
          "data": {
            "text/plain": [
              "((1671, 10001), (1118, 10001))"
            ]
          },
          "metadata": {
            "tags": []
          },
          "execution_count": 25
        }
      ]
    },
    {
      "cell_type": "code",
      "metadata": {
        "id": "uzDit-37Ohi2",
        "colab_type": "code",
        "outputId": "9aa7c67d-3711-4a4a-e0c4-2be3d817d35b",
        "colab": {
          "base_uri": "https://localhost:8080/",
          "height": 253
        }
      },
      "source": [
        "train=data_train.drop('Labels',axis=1)\n",
        "train.head()"
      ],
      "execution_count": 0,
      "outputs": [
        {
          "output_type": "execute_result",
          "data": {
            "text/html": [
              "<div>\n",
              "<style scoped>\n",
              "    .dataframe tbody tr th:only-of-type {\n",
              "        vertical-align: middle;\n",
              "    }\n",
              "\n",
              "    .dataframe tbody tr th {\n",
              "        vertical-align: top;\n",
              "    }\n",
              "\n",
              "    .dataframe thead th {\n",
              "        text-align: right;\n",
              "    }\n",
              "</style>\n",
              "<table border=\"1\" class=\"dataframe\">\n",
              "  <thead>\n",
              "    <tr style=\"text-align: right;\">\n",
              "      <th></th>\n",
              "      <th>pixels0</th>\n",
              "      <th>pixels1</th>\n",
              "      <th>pixels2</th>\n",
              "      <th>pixels3</th>\n",
              "      <th>pixels4</th>\n",
              "      <th>pixels5</th>\n",
              "      <th>pixels6</th>\n",
              "      <th>pixels7</th>\n",
              "      <th>pixels8</th>\n",
              "      <th>pixels9</th>\n",
              "      <th>pixels10</th>\n",
              "      <th>pixels11</th>\n",
              "      <th>pixels12</th>\n",
              "      <th>pixels13</th>\n",
              "      <th>pixels14</th>\n",
              "      <th>pixels15</th>\n",
              "      <th>pixels16</th>\n",
              "      <th>pixels17</th>\n",
              "      <th>pixels18</th>\n",
              "      <th>pixels19</th>\n",
              "      <th>pixels20</th>\n",
              "      <th>pixels21</th>\n",
              "      <th>pixels22</th>\n",
              "      <th>pixels23</th>\n",
              "      <th>pixels24</th>\n",
              "      <th>pixels25</th>\n",
              "      <th>pixels26</th>\n",
              "      <th>pixels27</th>\n",
              "      <th>pixels28</th>\n",
              "      <th>pixels29</th>\n",
              "      <th>pixels30</th>\n",
              "      <th>pixels31</th>\n",
              "      <th>pixels32</th>\n",
              "      <th>pixels33</th>\n",
              "      <th>pixels34</th>\n",
              "      <th>pixels35</th>\n",
              "      <th>pixels36</th>\n",
              "      <th>pixels37</th>\n",
              "      <th>pixels38</th>\n",
              "      <th>pixels39</th>\n",
              "      <th>...</th>\n",
              "      <th>pixels9960</th>\n",
              "      <th>pixels9961</th>\n",
              "      <th>pixels9962</th>\n",
              "      <th>pixels9963</th>\n",
              "      <th>pixels9964</th>\n",
              "      <th>pixels9965</th>\n",
              "      <th>pixels9966</th>\n",
              "      <th>pixels9967</th>\n",
              "      <th>pixels9968</th>\n",
              "      <th>pixels9969</th>\n",
              "      <th>pixels9970</th>\n",
              "      <th>pixels9971</th>\n",
              "      <th>pixels9972</th>\n",
              "      <th>pixels9973</th>\n",
              "      <th>pixels9974</th>\n",
              "      <th>pixels9975</th>\n",
              "      <th>pixels9976</th>\n",
              "      <th>pixels9977</th>\n",
              "      <th>pixels9978</th>\n",
              "      <th>pixels9979</th>\n",
              "      <th>pixels9980</th>\n",
              "      <th>pixels9981</th>\n",
              "      <th>pixels9982</th>\n",
              "      <th>pixels9983</th>\n",
              "      <th>pixels9984</th>\n",
              "      <th>pixels9985</th>\n",
              "      <th>pixels9986</th>\n",
              "      <th>pixels9987</th>\n",
              "      <th>pixels9988</th>\n",
              "      <th>pixels9989</th>\n",
              "      <th>pixels9990</th>\n",
              "      <th>pixels9991</th>\n",
              "      <th>pixels9992</th>\n",
              "      <th>pixels9993</th>\n",
              "      <th>pixels9994</th>\n",
              "      <th>pixels9995</th>\n",
              "      <th>pixels9996</th>\n",
              "      <th>pixels9997</th>\n",
              "      <th>pixels9998</th>\n",
              "      <th>pixels9999</th>\n",
              "    </tr>\n",
              "  </thead>\n",
              "  <tbody>\n",
              "    <tr>\n",
              "      <th>0</th>\n",
              "      <td>84.0</td>\n",
              "      <td>83.0</td>\n",
              "      <td>82.0</td>\n",
              "      <td>80.0</td>\n",
              "      <td>77.0</td>\n",
              "      <td>76.0</td>\n",
              "      <td>71.0</td>\n",
              "      <td>71.0</td>\n",
              "      <td>72.0</td>\n",
              "      <td>73.0</td>\n",
              "      <td>73.0</td>\n",
              "      <td>65.0</td>\n",
              "      <td>65.0</td>\n",
              "      <td>62.0</td>\n",
              "      <td>63.0</td>\n",
              "      <td>68.0</td>\n",
              "      <td>65.0</td>\n",
              "      <td>65.0</td>\n",
              "      <td>72.0</td>\n",
              "      <td>77.0</td>\n",
              "      <td>86.0</td>\n",
              "      <td>85.0</td>\n",
              "      <td>88.0</td>\n",
              "      <td>84.0</td>\n",
              "      <td>87.0</td>\n",
              "      <td>82.0</td>\n",
              "      <td>79.0</td>\n",
              "      <td>62.0</td>\n",
              "      <td>80.0</td>\n",
              "      <td>80.0</td>\n",
              "      <td>83.0</td>\n",
              "      <td>84.0</td>\n",
              "      <td>82.0</td>\n",
              "      <td>87.0</td>\n",
              "      <td>91.0</td>\n",
              "      <td>87.0</td>\n",
              "      <td>85.0</td>\n",
              "      <td>85.0</td>\n",
              "      <td>89.0</td>\n",
              "      <td>88.0</td>\n",
              "      <td>...</td>\n",
              "      <td>189.0</td>\n",
              "      <td>185.0</td>\n",
              "      <td>193.0</td>\n",
              "      <td>194.0</td>\n",
              "      <td>195.0</td>\n",
              "      <td>197.0</td>\n",
              "      <td>194.0</td>\n",
              "      <td>190.0</td>\n",
              "      <td>188.0</td>\n",
              "      <td>185.0</td>\n",
              "      <td>184.0</td>\n",
              "      <td>186.0</td>\n",
              "      <td>186.0</td>\n",
              "      <td>185.0</td>\n",
              "      <td>187.0</td>\n",
              "      <td>188.0</td>\n",
              "      <td>184.0</td>\n",
              "      <td>187.0</td>\n",
              "      <td>183.0</td>\n",
              "      <td>184.0</td>\n",
              "      <td>188.0</td>\n",
              "      <td>192.0</td>\n",
              "      <td>193.0</td>\n",
              "      <td>202.0</td>\n",
              "      <td>206.0</td>\n",
              "      <td>207.0</td>\n",
              "      <td>203.0</td>\n",
              "      <td>228.0</td>\n",
              "      <td>226.0</td>\n",
              "      <td>226.0</td>\n",
              "      <td>225.0</td>\n",
              "      <td>213.0</td>\n",
              "      <td>221.0</td>\n",
              "      <td>220.0</td>\n",
              "      <td>219.0</td>\n",
              "      <td>221.0</td>\n",
              "      <td>222.0</td>\n",
              "      <td>222.0</td>\n",
              "      <td>222.0</td>\n",
              "      <td>223.0</td>\n",
              "    </tr>\n",
              "    <tr>\n",
              "      <th>1</th>\n",
              "      <td>255.0</td>\n",
              "      <td>255.0</td>\n",
              "      <td>255.0</td>\n",
              "      <td>255.0</td>\n",
              "      <td>255.0</td>\n",
              "      <td>255.0</td>\n",
              "      <td>255.0</td>\n",
              "      <td>255.0</td>\n",
              "      <td>255.0</td>\n",
              "      <td>255.0</td>\n",
              "      <td>254.0</td>\n",
              "      <td>198.0</td>\n",
              "      <td>197.0</td>\n",
              "      <td>197.0</td>\n",
              "      <td>195.0</td>\n",
              "      <td>195.0</td>\n",
              "      <td>195.0</td>\n",
              "      <td>195.0</td>\n",
              "      <td>196.0</td>\n",
              "      <td>196.0</td>\n",
              "      <td>195.0</td>\n",
              "      <td>195.0</td>\n",
              "      <td>195.0</td>\n",
              "      <td>195.0</td>\n",
              "      <td>195.0</td>\n",
              "      <td>196.0</td>\n",
              "      <td>196.0</td>\n",
              "      <td>195.0</td>\n",
              "      <td>194.0</td>\n",
              "      <td>195.0</td>\n",
              "      <td>195.0</td>\n",
              "      <td>195.0</td>\n",
              "      <td>196.0</td>\n",
              "      <td>197.0</td>\n",
              "      <td>196.0</td>\n",
              "      <td>195.0</td>\n",
              "      <td>197.0</td>\n",
              "      <td>198.0</td>\n",
              "      <td>198.0</td>\n",
              "      <td>196.0</td>\n",
              "      <td>...</td>\n",
              "      <td>179.0</td>\n",
              "      <td>174.0</td>\n",
              "      <td>192.0</td>\n",
              "      <td>154.0</td>\n",
              "      <td>171.0</td>\n",
              "      <td>200.0</td>\n",
              "      <td>186.0</td>\n",
              "      <td>194.0</td>\n",
              "      <td>206.0</td>\n",
              "      <td>209.0</td>\n",
              "      <td>211.0</td>\n",
              "      <td>168.0</td>\n",
              "      <td>181.0</td>\n",
              "      <td>205.0</td>\n",
              "      <td>186.0</td>\n",
              "      <td>200.0</td>\n",
              "      <td>175.0</td>\n",
              "      <td>175.0</td>\n",
              "      <td>171.0</td>\n",
              "      <td>204.0</td>\n",
              "      <td>208.0</td>\n",
              "      <td>179.0</td>\n",
              "      <td>179.0</td>\n",
              "      <td>180.0</td>\n",
              "      <td>189.0</td>\n",
              "      <td>163.0</td>\n",
              "      <td>173.0</td>\n",
              "      <td>196.0</td>\n",
              "      <td>190.0</td>\n",
              "      <td>178.0</td>\n",
              "      <td>179.0</td>\n",
              "      <td>254.0</td>\n",
              "      <td>255.0</td>\n",
              "      <td>255.0</td>\n",
              "      <td>255.0</td>\n",
              "      <td>255.0</td>\n",
              "      <td>255.0</td>\n",
              "      <td>255.0</td>\n",
              "      <td>255.0</td>\n",
              "      <td>255.0</td>\n",
              "    </tr>\n",
              "    <tr>\n",
              "      <th>2</th>\n",
              "      <td>255.0</td>\n",
              "      <td>255.0</td>\n",
              "      <td>255.0</td>\n",
              "      <td>255.0</td>\n",
              "      <td>255.0</td>\n",
              "      <td>255.0</td>\n",
              "      <td>255.0</td>\n",
              "      <td>255.0</td>\n",
              "      <td>255.0</td>\n",
              "      <td>255.0</td>\n",
              "      <td>255.0</td>\n",
              "      <td>255.0</td>\n",
              "      <td>255.0</td>\n",
              "      <td>255.0</td>\n",
              "      <td>255.0</td>\n",
              "      <td>255.0</td>\n",
              "      <td>255.0</td>\n",
              "      <td>255.0</td>\n",
              "      <td>255.0</td>\n",
              "      <td>255.0</td>\n",
              "      <td>255.0</td>\n",
              "      <td>255.0</td>\n",
              "      <td>255.0</td>\n",
              "      <td>255.0</td>\n",
              "      <td>255.0</td>\n",
              "      <td>255.0</td>\n",
              "      <td>255.0</td>\n",
              "      <td>255.0</td>\n",
              "      <td>255.0</td>\n",
              "      <td>255.0</td>\n",
              "      <td>255.0</td>\n",
              "      <td>255.0</td>\n",
              "      <td>255.0</td>\n",
              "      <td>255.0</td>\n",
              "      <td>255.0</td>\n",
              "      <td>255.0</td>\n",
              "      <td>255.0</td>\n",
              "      <td>255.0</td>\n",
              "      <td>255.0</td>\n",
              "      <td>255.0</td>\n",
              "      <td>...</td>\n",
              "      <td>15.0</td>\n",
              "      <td>16.0</td>\n",
              "      <td>19.0</td>\n",
              "      <td>17.0</td>\n",
              "      <td>16.0</td>\n",
              "      <td>16.0</td>\n",
              "      <td>18.0</td>\n",
              "      <td>12.0</td>\n",
              "      <td>25.0</td>\n",
              "      <td>20.0</td>\n",
              "      <td>17.0</td>\n",
              "      <td>20.0</td>\n",
              "      <td>18.0</td>\n",
              "      <td>16.0</td>\n",
              "      <td>51.0</td>\n",
              "      <td>28.0</td>\n",
              "      <td>23.0</td>\n",
              "      <td>12.0</td>\n",
              "      <td>16.0</td>\n",
              "      <td>57.0</td>\n",
              "      <td>22.0</td>\n",
              "      <td>16.0</td>\n",
              "      <td>10.0</td>\n",
              "      <td>17.0</td>\n",
              "      <td>20.0</td>\n",
              "      <td>25.0</td>\n",
              "      <td>26.0</td>\n",
              "      <td>223.0</td>\n",
              "      <td>254.0</td>\n",
              "      <td>255.0</td>\n",
              "      <td>255.0</td>\n",
              "      <td>255.0</td>\n",
              "      <td>255.0</td>\n",
              "      <td>255.0</td>\n",
              "      <td>255.0</td>\n",
              "      <td>255.0</td>\n",
              "      <td>255.0</td>\n",
              "      <td>255.0</td>\n",
              "      <td>255.0</td>\n",
              "      <td>255.0</td>\n",
              "    </tr>\n",
              "    <tr>\n",
              "      <th>3</th>\n",
              "      <td>2.0</td>\n",
              "      <td>0.0</td>\n",
              "      <td>2.0</td>\n",
              "      <td>1.0</td>\n",
              "      <td>0.0</td>\n",
              "      <td>2.0</td>\n",
              "      <td>1.0</td>\n",
              "      <td>0.0</td>\n",
              "      <td>2.0</td>\n",
              "      <td>2.0</td>\n",
              "      <td>2.0</td>\n",
              "      <td>2.0</td>\n",
              "      <td>2.0</td>\n",
              "      <td>1.0</td>\n",
              "      <td>1.0</td>\n",
              "      <td>0.0</td>\n",
              "      <td>0.0</td>\n",
              "      <td>1.0</td>\n",
              "      <td>0.0</td>\n",
              "      <td>2.0</td>\n",
              "      <td>3.0</td>\n",
              "      <td>2.0</td>\n",
              "      <td>1.0</td>\n",
              "      <td>1.0</td>\n",
              "      <td>1.0</td>\n",
              "      <td>1.0</td>\n",
              "      <td>1.0</td>\n",
              "      <td>1.0</td>\n",
              "      <td>1.0</td>\n",
              "      <td>2.0</td>\n",
              "      <td>0.0</td>\n",
              "      <td>0.0</td>\n",
              "      <td>2.0</td>\n",
              "      <td>6.0</td>\n",
              "      <td>2.0</td>\n",
              "      <td>3.0</td>\n",
              "      <td>0.0</td>\n",
              "      <td>2.0</td>\n",
              "      <td>2.0</td>\n",
              "      <td>1.0</td>\n",
              "      <td>...</td>\n",
              "      <td>18.0</td>\n",
              "      <td>24.0</td>\n",
              "      <td>24.0</td>\n",
              "      <td>19.0</td>\n",
              "      <td>24.0</td>\n",
              "      <td>15.0</td>\n",
              "      <td>20.0</td>\n",
              "      <td>16.0</td>\n",
              "      <td>22.0</td>\n",
              "      <td>16.0</td>\n",
              "      <td>25.0</td>\n",
              "      <td>18.0</td>\n",
              "      <td>20.0</td>\n",
              "      <td>25.0</td>\n",
              "      <td>26.0</td>\n",
              "      <td>21.0</td>\n",
              "      <td>22.0</td>\n",
              "      <td>20.0</td>\n",
              "      <td>23.0</td>\n",
              "      <td>18.0</td>\n",
              "      <td>20.0</td>\n",
              "      <td>21.0</td>\n",
              "      <td>17.0</td>\n",
              "      <td>22.0</td>\n",
              "      <td>16.0</td>\n",
              "      <td>22.0</td>\n",
              "      <td>12.0</td>\n",
              "      <td>14.0</td>\n",
              "      <td>19.0</td>\n",
              "      <td>18.0</td>\n",
              "      <td>17.0</td>\n",
              "      <td>18.0</td>\n",
              "      <td>13.0</td>\n",
              "      <td>17.0</td>\n",
              "      <td>19.0</td>\n",
              "      <td>14.0</td>\n",
              "      <td>20.0</td>\n",
              "      <td>11.0</td>\n",
              "      <td>2.0</td>\n",
              "      <td>5.0</td>\n",
              "    </tr>\n",
              "    <tr>\n",
              "      <th>4</th>\n",
              "      <td>125.0</td>\n",
              "      <td>123.0</td>\n",
              "      <td>123.0</td>\n",
              "      <td>120.0</td>\n",
              "      <td>120.0</td>\n",
              "      <td>116.0</td>\n",
              "      <td>114.0</td>\n",
              "      <td>114.0</td>\n",
              "      <td>115.0</td>\n",
              "      <td>99.0</td>\n",
              "      <td>63.0</td>\n",
              "      <td>183.0</td>\n",
              "      <td>185.0</td>\n",
              "      <td>188.0</td>\n",
              "      <td>191.0</td>\n",
              "      <td>197.0</td>\n",
              "      <td>199.0</td>\n",
              "      <td>193.0</td>\n",
              "      <td>195.0</td>\n",
              "      <td>203.0</td>\n",
              "      <td>202.0</td>\n",
              "      <td>205.0</td>\n",
              "      <td>208.0</td>\n",
              "      <td>210.0</td>\n",
              "      <td>209.0</td>\n",
              "      <td>209.0</td>\n",
              "      <td>210.0</td>\n",
              "      <td>217.0</td>\n",
              "      <td>217.0</td>\n",
              "      <td>218.0</td>\n",
              "      <td>217.0</td>\n",
              "      <td>220.0</td>\n",
              "      <td>221.0</td>\n",
              "      <td>219.0</td>\n",
              "      <td>214.0</td>\n",
              "      <td>213.0</td>\n",
              "      <td>209.0</td>\n",
              "      <td>218.0</td>\n",
              "      <td>223.0</td>\n",
              "      <td>220.0</td>\n",
              "      <td>...</td>\n",
              "      <td>193.0</td>\n",
              "      <td>190.0</td>\n",
              "      <td>192.0</td>\n",
              "      <td>195.0</td>\n",
              "      <td>185.0</td>\n",
              "      <td>189.0</td>\n",
              "      <td>187.0</td>\n",
              "      <td>171.0</td>\n",
              "      <td>187.0</td>\n",
              "      <td>187.0</td>\n",
              "      <td>196.0</td>\n",
              "      <td>187.0</td>\n",
              "      <td>186.0</td>\n",
              "      <td>173.0</td>\n",
              "      <td>183.0</td>\n",
              "      <td>183.0</td>\n",
              "      <td>172.0</td>\n",
              "      <td>180.0</td>\n",
              "      <td>181.0</td>\n",
              "      <td>175.0</td>\n",
              "      <td>173.0</td>\n",
              "      <td>172.0</td>\n",
              "      <td>169.0</td>\n",
              "      <td>166.0</td>\n",
              "      <td>164.0</td>\n",
              "      <td>152.0</td>\n",
              "      <td>140.0</td>\n",
              "      <td>135.0</td>\n",
              "      <td>84.0</td>\n",
              "      <td>86.0</td>\n",
              "      <td>104.0</td>\n",
              "      <td>123.0</td>\n",
              "      <td>123.0</td>\n",
              "      <td>102.0</td>\n",
              "      <td>139.0</td>\n",
              "      <td>116.0</td>\n",
              "      <td>100.0</td>\n",
              "      <td>112.0</td>\n",
              "      <td>118.0</td>\n",
              "      <td>139.0</td>\n",
              "    </tr>\n",
              "  </tbody>\n",
              "</table>\n",
              "<p>5 rows × 10000 columns</p>\n",
              "</div>"
            ],
            "text/plain": [
              "   pixels0  pixels1  pixels2  ...  pixels9997  pixels9998  pixels9999\n",
              "0     84.0     83.0     82.0  ...       222.0       222.0       223.0\n",
              "1    255.0    255.0    255.0  ...       255.0       255.0       255.0\n",
              "2    255.0    255.0    255.0  ...       255.0       255.0       255.0\n",
              "3      2.0      0.0      2.0  ...        11.0         2.0         5.0\n",
              "4    125.0    123.0    123.0  ...       112.0       118.0       139.0\n",
              "\n",
              "[5 rows x 10000 columns]"
            ]
          },
          "metadata": {
            "tags": []
          },
          "execution_count": 36
        }
      ]
    },
    {
      "cell_type": "code",
      "metadata": {
        "id": "tEVppKU1PC-t",
        "colab_type": "code",
        "colab": {}
      },
      "source": [
        "train_label=data_train['Labels']\n"
      ],
      "execution_count": 0,
      "outputs": []
    },
    {
      "cell_type": "code",
      "metadata": {
        "id": "CS_ytXWWQg8e",
        "colab_type": "code",
        "colab": {}
      },
      "source": [
        "# REshaping the Images\n",
        "train_s= train.values.reshape((-1,100,100))"
      ],
      "execution_count": 0,
      "outputs": []
    },
    {
      "cell_type": "code",
      "metadata": {
        "id": "CZ9lS_g6S2FP",
        "colab_type": "code",
        "outputId": "74471636-ad0c-4752-d8b5-06eb01a1323e",
        "colab": {
          "base_uri": "https://localhost:8080/",
          "height": 399
        }
      },
      "source": [
        "#plotting of Sample Images\n",
        "for i in range(6):\n",
        "  plt.subplot(2,3,i+1)\n",
        "  plt.imshow(train_s[i])\n",
        "  plt.title(train_label[i])\n",
        "  plt.tight_layout() \n",
        "\n"
      ],
      "execution_count": 0,
      "outputs": [
        {
          "output_type": "execute_result",
          "data": {
            "text/plain": [
              "<matplotlib.axes._subplots.AxesSubplot at 0x7f15c3c008d0>"
            ]
          },
          "metadata": {
            "tags": []
          },
          "execution_count": 69
        },
        {
          "output_type": "execute_result",
          "data": {
            "text/plain": [
              "<matplotlib.image.AxesImage at 0x7f15c3c1dc88>"
            ]
          },
          "metadata": {
            "tags": []
          },
          "execution_count": 69
        },
        {
          "output_type": "execute_result",
          "data": {
            "text/plain": [
              "Text(0.5, 1.0, 'Faces_easy')"
            ]
          },
          "metadata": {
            "tags": []
          },
          "execution_count": 69
        },
        {
          "output_type": "execute_result",
          "data": {
            "text/plain": [
              "<matplotlib.axes._subplots.AxesSubplot at 0x7f15c4084908>"
            ]
          },
          "metadata": {
            "tags": []
          },
          "execution_count": 69
        },
        {
          "output_type": "execute_result",
          "data": {
            "text/plain": [
              "<matplotlib.image.AxesImage at 0x7f15c3b67518>"
            ]
          },
          "metadata": {
            "tags": []
          },
          "execution_count": 69
        },
        {
          "output_type": "execute_result",
          "data": {
            "text/plain": [
              "Text(0.5, 1.0, 'airplanes')"
            ]
          },
          "metadata": {
            "tags": []
          },
          "execution_count": 69
        },
        {
          "output_type": "execute_result",
          "data": {
            "text/plain": [
              "<matplotlib.axes._subplots.AxesSubplot at 0x7f15c3ba95f8>"
            ]
          },
          "metadata": {
            "tags": []
          },
          "execution_count": 69
        },
        {
          "output_type": "execute_result",
          "data": {
            "text/plain": [
              "<matplotlib.image.AxesImage at 0x7f15c3b2f5f8>"
            ]
          },
          "metadata": {
            "tags": []
          },
          "execution_count": 69
        },
        {
          "output_type": "execute_result",
          "data": {
            "text/plain": [
              "Text(0.5, 1.0, 'Motorbikes')"
            ]
          },
          "metadata": {
            "tags": []
          },
          "execution_count": 69
        },
        {
          "output_type": "execute_result",
          "data": {
            "text/plain": [
              "<matplotlib.axes._subplots.AxesSubplot at 0x7f15c3b3c048>"
            ]
          },
          "metadata": {
            "tags": []
          },
          "execution_count": 69
        },
        {
          "output_type": "execute_result",
          "data": {
            "text/plain": [
              "<matplotlib.image.AxesImage at 0x7f15c3af1c88>"
            ]
          },
          "metadata": {
            "tags": []
          },
          "execution_count": 69
        },
        {
          "output_type": "execute_result",
          "data": {
            "text/plain": [
              "Text(0.5, 1.0, 'Leopards')"
            ]
          },
          "metadata": {
            "tags": []
          },
          "execution_count": 69
        },
        {
          "output_type": "execute_result",
          "data": {
            "text/plain": [
              "<matplotlib.axes._subplots.AxesSubplot at 0x7f15c3b0f2e8>"
            ]
          },
          "metadata": {
            "tags": []
          },
          "execution_count": 69
        },
        {
          "output_type": "execute_result",
          "data": {
            "text/plain": [
              "<matplotlib.image.AxesImage at 0x7f15c3abc780>"
            ]
          },
          "metadata": {
            "tags": []
          },
          "execution_count": 69
        },
        {
          "output_type": "execute_result",
          "data": {
            "text/plain": [
              "Text(0.5, 1.0, 'Faces')"
            ]
          },
          "metadata": {
            "tags": []
          },
          "execution_count": 69
        },
        {
          "output_type": "execute_result",
          "data": {
            "text/plain": [
              "<matplotlib.axes._subplots.AxesSubplot at 0x7f15c3b18780>"
            ]
          },
          "metadata": {
            "tags": []
          },
          "execution_count": 69
        },
        {
          "output_type": "execute_result",
          "data": {
            "text/plain": [
              "<matplotlib.image.AxesImage at 0x7f15c3a7ef60>"
            ]
          },
          "metadata": {
            "tags": []
          },
          "execution_count": 69
        },
        {
          "output_type": "execute_result",
          "data": {
            "text/plain": [
              "Text(0.5, 1.0, 'Motorbikes')"
            ]
          },
          "metadata": {
            "tags": []
          },
          "execution_count": 69
        },
        {
          "output_type": "display_data",
          "data": {
            "image/png": "[encoded data removed]",
            "text/plain": [
              "<Figure size 432x288 with 6 Axes>"
            ]
          },
          "metadata": {
            "tags": []
          }
        }
      ]
    },
    {
      "cell_type": "code",
      "metadata": {
        "id": "xxEvvRedS4Aa",
        "colab_type": "code",
        "colab": {}
      },
      "source": [
        "from sklearn.preprocessing import LabelEncoder\n",
        "le=LabelEncoder()\n",
        "train_label_en=le.fit_transform(train_label)"
      ],
      "execution_count": 0,
      "outputs": []
    },
    {
      "cell_type": "code",
      "metadata": {
        "id": "swsFNh5TaYkX",
        "colab_type": "code",
        "colab": {}
      },
      "source": [
        "#Standerdizing the data\n",
        "from sklearn.preprocessing import StandardScaler\n",
        "scalar=StandardScaler()\n",
        "x_train=scalar.fit_transform(train)"
      ],
      "execution_count": 0,
      "outputs": []
    },
    {
      "cell_type": "code",
      "metadata": {
        "id": "DhlrvVokcDTR",
        "colab_type": "code",
        "colab": {}
      },
      "source": [
        "x_train=x_train.reshape(-1,100,100,1)"
      ],
      "execution_count": 0,
      "outputs": []
    },
    {
      "cell_type": "code",
      "metadata": {
        "id": "rrc4-g1EceDw",
        "colab_type": "code",
        "outputId": "e950d4c3-09b5-4cb4-c959-d09d83d16d5a",
        "colab": {
          "base_uri": "https://localhost:8080/",
          "height": 173
        }
      },
      "source": [
        "# Model buliding\n",
        "model=Sequential()\n",
        "model.add(Conv2D(50,(3,3),padding='same',input_shape=(100,100,1),activation='relu'))\n",
        "model.add(MaxPooling2D(pool_size=(2,2)))\n",
        "model.add(Conv2D(25,(3,3),padding='same',activation='relu'))\n",
        "model.add(MaxPooling2D(pool_size=(2,2)))\n",
        "model.add(Conv2D(20,(3,3),padding='same',activation='relu'))\n",
        "model.add(MaxPooling2D(pool_size=(2,2)))\n",
        "model.add(Conv2D(10,(3,3),padding='same',activation='relu'))\n",
        "model.add(MaxPooling2D(pool_size=(2,2,)))"
      ],
      "execution_count": 0,
      "outputs": [
        {
          "output_type": "stream",
          "text": [
            "WARNING:tensorflow:From /usr/local/lib/python3.6/dist-packages/keras/backend/tensorflow_backend.py:66: The name tf.get_default_graph is deprecated. Please use tf.compat.v1.get_default_graph instead.\n",
            "\n",
            "WARNING:tensorflow:From /usr/local/lib/python3.6/dist-packages/keras/backend/tensorflow_backend.py:541: The name tf.placeholder is deprecated. Please use tf.compat.v1.placeholder instead.\n",
            "\n",
            "WARNING:tensorflow:From /usr/local/lib/python3.6/dist-packages/keras/backend/tensorflow_backend.py:4432: The name tf.random_uniform is deprecated. Please use tf.random.uniform instead.\n",
            "\n",
            "WARNING:tensorflow:From /usr/local/lib/python3.6/dist-packages/keras/backend/tensorflow_backend.py:4267: The name tf.nn.max_pool is deprecated. Please use tf.nn.max_pool2d instead.\n",
            "\n"
          ],
          "name": "stdout"
        }
      ]
    },
    {
      "cell_type": "code",
      "metadata": {
        "id": "DvCxYVFNdg-C",
        "colab_type": "code",
        "outputId": "14240082-d9b9-4e8e-d63d-31997bd787a7",
        "colab": {
          "base_uri": "https://localhost:8080/",
          "height": 122
        }
      },
      "source": [
        "model.add(Flatten())\n",
        "model.add(Dense(1000,activation='relu',))\n",
        "model.add(Dropout(.2))\n",
        "model.add(Dense(8,activation='softmax'))\n"
      ],
      "execution_count": 0,
      "outputs": [
        {
          "output_type": "stream",
          "text": [
            "WARNING:tensorflow:From /usr/local/lib/python3.6/dist-packages/keras/backend/tensorflow_backend.py:148: The name tf.placeholder_with_default is deprecated. Please use tf.compat.v1.placeholder_with_default instead.\n",
            "\n",
            "WARNING:tensorflow:From /usr/local/lib/python3.6/dist-packages/keras/backend/tensorflow_backend.py:3733: calling dropout (from tensorflow.python.ops.nn_ops) with keep_prob is deprecated and will be removed in a future version.\n",
            "Instructions for updating:\n",
            "Please use `rate` instead of `keep_prob`. Rate should be set to `rate = 1 - keep_prob`.\n"
          ],
          "name": "stdout"
        }
      ]
    },
    {
      "cell_type": "code",
      "metadata": {
        "id": "9syMWZuHdrbY",
        "colab_type": "code",
        "outputId": "9b947c95-af36-4f50-a965-8b439c3d623b",
        "colab": {
          "base_uri": "https://localhost:8080/",
          "height": 561
        }
      },
      "source": [
        "# MOdel Summary\n",
        "model.summary()"
      ],
      "execution_count": 0,
      "outputs": [
        {
          "output_type": "stream",
          "text": [
            "Model: \"sequential_1\"\n",
            "_________________________________________________________________\n",
            "Layer (type)                 Output Shape              Param #   \n",
            "=================================================================\n",
            "conv2d_1 (Conv2D)            (None, 100, 100, 50)      500       \n",
            "_________________________________________________________________\n",
            "max_pooling2d_1 (MaxPooling2 (None, 50, 50, 50)        0         \n",
            "_________________________________________________________________\n",
            "conv2d_2 (Conv2D)            (None, 50, 50, 25)        11275     \n",
            "_________________________________________________________________\n",
            "max_pooling2d_2 (MaxPooling2 (None, 25, 25, 25)        0         \n",
            "_________________________________________________________________\n",
            "conv2d_3 (Conv2D)            (None, 25, 25, 20)        4520      \n",
            "_________________________________________________________________\n",
            "max_pooling2d_3 (MaxPooling2 (None, 12, 12, 20)        0         \n",
            "_________________________________________________________________\n",
            "conv2d_4 (Conv2D)            (None, 12, 12, 10)        1810      \n",
            "_________________________________________________________________\n",
            "max_pooling2d_4 (MaxPooling2 (None, 6, 6, 10)          0         \n",
            "_________________________________________________________________\n",
            "flatten_1 (Flatten)          (None, 360)               0         \n",
            "_________________________________________________________________\n",
            "dense_1 (Dense)              (None, 1000)              361000    \n",
            "_________________________________________________________________\n",
            "dropout_1 (Dropout)          (None, 1000)              0         \n",
            "_________________________________________________________________\n",
            "dense_2 (Dense)              (None, 8)                 8008      \n",
            "=================================================================\n",
            "Total params: 387,113\n",
            "Trainable params: 387,113\n",
            "Non-trainable params: 0\n",
            "_________________________________________________________________\n"
          ],
          "name": "stdout"
        }
      ]
    },
    {
      "cell_type": "code",
      "metadata": {
        "id": "HTbesoN4d0dF",
        "colab_type": "code",
        "outputId": "b9590037-2972-4f6b-e56f-e67692b3bbe9",
        "colab": {
          "base_uri": "https://localhost:8080/",
          "height": 105
        }
      },
      "source": [
        "#model compilation\n",
        "model.compile(optimizer='adam',metrics=['accuracy'],loss='sparse_categorical_crossentropy')"
      ],
      "execution_count": 0,
      "outputs": [
        {
          "output_type": "stream",
          "text": [
            "WARNING:tensorflow:From /usr/local/lib/python3.6/dist-packages/keras/optimizers.py:793: The name tf.train.Optimizer is deprecated. Please use tf.compat.v1.train.Optimizer instead.\n",
            "\n",
            "WARNING:tensorflow:From /usr/local/lib/python3.6/dist-packages/keras/backend/tensorflow_backend.py:3622: The name tf.log is deprecated. Please use tf.math.log instead.\n",
            "\n"
          ],
          "name": "stdout"
        }
      ]
    },
    {
      "cell_type": "code",
      "metadata": {
        "id": "GTGufrIoeOXw",
        "colab_type": "code",
        "outputId": "36bf8cf6-ac87-4ab8-ef99-efd30283378f",
        "colab": {
          "base_uri": "https://localhost:8080/",
          "height": 204
        }
      },
      "source": [
        "model.fit(x_train,train_label_en,epochs=5)"
      ],
      "execution_count": 0,
      "outputs": [
        {
          "output_type": "stream",
          "text": [
            "Epoch 1/5\n",
            "1671/1671 [==============================] - 26s 16ms/step - loss: 0.0841 - acc: 0.9737\n",
            "Epoch 2/5\n",
            "1671/1671 [==============================] - 26s 16ms/step - loss: 0.0687 - acc: 0.9808\n",
            "Epoch 3/5\n",
            "1671/1671 [==============================] - 26s 16ms/step - loss: 0.0448 - acc: 0.9838\n",
            "Epoch 4/5\n",
            "1671/1671 [==============================] - 26s 16ms/step - loss: 0.0540 - acc: 0.9862\n",
            "Epoch 5/5\n",
            "1671/1671 [==============================] - 26s 16ms/step - loss: 0.0362 - acc: 0.9910\n"
          ],
          "name": "stdout"
        },
        {
          "output_type": "execute_result",
          "data": {
            "text/plain": [
              "<keras.callbacks.History at 0x7f15c31981d0>"
            ]
          },
          "metadata": {
            "tags": []
          },
          "execution_count": 87
        }
      ]
    },
    {
      "cell_type": "code",
      "metadata": {
        "id": "RebKoad-eSXd",
        "colab_type": "code",
        "colab": {}
      },
      "source": [
        "x_test=data_test.drop('Labels',axis=1).values\n",
        "y_test=data_test['Labels']"
      ],
      "execution_count": 0,
      "outputs": []
    },
    {
      "cell_type": "code",
      "metadata": {
        "id": "_1g15nbYfWF3",
        "colab_type": "code",
        "colab": {}
      },
      "source": [
        "y=le.fit_transform(y_test)\n",
        "scalar=StandardScaler()\n",
        "x=scalar.fit_transform(x_test)"
      ],
      "execution_count": 0,
      "outputs": []
    },
    {
      "cell_type": "code",
      "metadata": {
        "id": "TRSKlZXyfjwP",
        "colab_type": "code",
        "colab": {}
      },
      "source": [
        "x_data=x.reshape(-1,100,100,1)"
      ],
      "execution_count": 0,
      "outputs": []
    },
    {
      "cell_type": "code",
      "metadata": {
        "id": "BiWmvA95fnGI",
        "colab_type": "code",
        "outputId": "eb2e6132-855b-4799-9ffe-0be5934fa867",
        "colab": {
          "base_uri": "https://localhost:8080/",
          "height": 51
        }
      },
      "source": [
        "model.evaluate(x_data,y)"
      ],
      "execution_count": 0,
      "outputs": [
        {
          "output_type": "stream",
          "text": [
            "1118/1118 [==============================] - 5s 4ms/step\n"
          ],
          "name": "stdout"
        },
        {
          "output_type": "execute_result",
          "data": {
            "text/plain": [
              "[0.23913579941635588, 0.9445438283713857]"
            ]
          },
          "metadata": {
            "tags": []
          },
          "execution_count": 91
        }
      ]
    },
    {
      "cell_type": "code",
      "metadata": {
        "id": "qA0PQXs1fqSm",
        "colab_type": "code",
        "colab": {}
      },
      "source": [
        ""
      ],
      "execution_count": 0,
      "outputs": []
    }
  ]
}